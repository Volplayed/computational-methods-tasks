{
 "cells": [
  {
   "cell_type": "markdown",
   "metadata": {},
   "source": [
    "# Computational Methods **Lab#1**\n",
    "## ***Gauss Method** for solving systems of linear equations*"
   ]
  },
  {
   "cell_type": "code",
   "execution_count": 1,
   "metadata": {},
   "outputs": [],
   "source": [
    "import numpy as np"
   ]
  },
  {
   "cell_type": "markdown",
   "metadata": {},
   "source": [
    "### About data types and structure of linear systems\n",
    "* The linear system of equations is set in the form of a matrix equation:\n",
    "$$\n",
    "\\begin{pmatrix}\n",
    "a_{11} & a_{12} & \\cdots & a_{1n}\\\\\n",
    "a_{21} & a_{22} & \\cdots & a_{2n}\\\\\n",
    "\\vdots & \\vdots & \\ddots & \\vdots\\\\\n",
    "a_{n1} & a_{n2} & \\cdots & a_{nn}\\\\\n",
    "\\end{pmatrix}\n",
    "\\begin{pmatrix}\n",
    "x_{1}\\\\\n",
    "x_{2}\\\\\n",
    "\\vdots\\\\\n",
    "x_{n}\\\\\n",
    "\\end{pmatrix}\n",
    "=\n",
    "\\begin{pmatrix}\n",
    "b_{1}\\\\\n",
    "b_{2}\\\\\n",
    "\\vdots\\\\\n",
    "b_{n}\\\\\n",
    "\\end{pmatrix}\n",
    "\n",
    "$$\n",
    "* The matrix of coefficients is a square matrix of order $n$.\n",
    "\n",
    "* All elements are of type *float*, except of matrix of coefficients, which is of type *np.float64*."
   ]
  },
  {
   "cell_type": "code",
   "execution_count": 2,
   "metadata": {},
   "outputs": [],
   "source": [
    "def swap_first_nonzero(matrix, col, b):\n",
    "    \"\"\"\n",
    "    Swaps the first nonzero element in a column with the first element in the column.\n",
    "\n",
    "    Parameters\n",
    "    ----------\n",
    "    matrix : numpy.ndarray\n",
    "        The matrix to swap the elements in.\n",
    "    b : numpy.ndarray\n",
    "        The vector to swap the elements in.\n",
    "    col : int\n",
    "        The column to swap the elements in.\n",
    "\n",
    "    Returns\n",
    "    -------\n",
    "    numpy.ndarray\n",
    "        The matrix with the elements swapped.\n",
    "    \"\"\"\n",
    "    for i in range(col, len(matrix)):\n",
    "        if matrix[i][col] != 0:\n",
    "            matrix[[col, i]] = matrix[[i, col]]\n",
    "            b[[col, i]] = b[[i, col]]\n",
    "            return matrix, b"
   ]
  },
  {
   "cell_type": "code",
   "execution_count": 3,
   "metadata": {},
   "outputs": [],
   "source": [
    "def forward(A, b):\n",
    "    \"\"\"\n",
    "    Converts matrix A into an upper triangular matrix\n",
    "\n",
    "    Parameters\n",
    "    ----------\n",
    "    A : numpy.ndarray\n",
    "        A square matrix\n",
    "    b : numpy.ndarray\n",
    "        A vertical vector\n",
    "    \n",
    "    Returns\n",
    "    -------\n",
    "    A : numpy.ndarray\n",
    "        Upper triangular matrix\n",
    "    \"\"\"\n",
    "\n",
    "    A = A.astype(np.float64)\n",
    "    b = b.astype(float)\n",
    "\n",
    "    n = len(A)\n",
    "    for i in range(n-1):\n",
    "        A, b = swap_first_nonzero(A, i, b)\n",
    "        for j in range(i+1, n):\n",
    "            m = A[j][i]/A[i][i]\n",
    "            A[j] = A[j] - m*A[i]\n",
    "            b[j] = b[j] - m*b[i]\n",
    "            \n",
    "    return A, b\n"
   ]
  },
  {
   "cell_type": "markdown",
   "metadata": {},
   "source": [
    "This function computes coefficients of the linear equation system using next formulas:\n",
    "\n",
    "$$\n",
    "\\large{A_{i} = A_{i} - \\frac{a_{ij}}{a_{jj}}A_{j}}\n",
    "$$\n",
    "\n",
    "$$\n",
    "\\large{b_{i} = b_{i} - \\frac{a_{ij}}{a_{jj}}b_{j}}\n",
    "$$\n",
    "\n",
    "where $a_{ij}$ is the coefficient of the linear equation system, $b_{i}$ is the right side of the linear equation system, $A_{i}$ is the matrix of the linear equation system.\n"
   ]
  },
  {
   "cell_type": "code",
   "execution_count": 4,
   "metadata": {},
   "outputs": [
    {
     "name": "stdout",
     "output_type": "stream",
     "text": [
      "(array([[6, 7, 8],\n",
      "       [0, 4, 5],\n",
      "       [0, 1, 2]]), array([3, 2, 1]))\n"
     ]
    }
   ],
   "source": [
    "#test swap\n",
    "A = np.array([[0, 1, 2], [0, 4, 5], [6, 7, 8]])\n",
    "b = np.array([1, 2, 3])\n",
    "print(swap_first_nonzero(A, 0, b))"
   ]
  },
  {
   "cell_type": "code",
   "execution_count": 5,
   "metadata": {},
   "outputs": [
    {
     "name": "stdout",
     "output_type": "stream",
     "text": [
      "(array([[ 2. ,  3. ,  3. ],\n",
      "       [ 0. ,  5. ,  3. ],\n",
      "       [ 0. ,  0. , -0.4]]), array([ 3. ,  2. , -0.6]))\n"
     ]
    }
   ],
   "source": [
    "#test 1\n",
    "A = np.array([[0, 4, 2], [0, 5, 3], [2, 3, 3]])\n",
    "b = np.array([1, 2, 3])\n",
    "\n",
    "print(forward(A, b))"
   ]
  },
  {
   "cell_type": "code",
   "execution_count": 6,
   "metadata": {},
   "outputs": [
    {
     "name": "stdout",
     "output_type": "stream",
     "text": [
      "(array([[ 7.        ,  1.        ,  2.        ,  3.        ],\n",
      "       [ 0.        ,  4.42857143,  1.85714286,  1.28571429],\n",
      "       [ 0.        ,  0.        ,  8.32258065,  3.83870968],\n",
      "       [ 0.        ,  0.        ,  0.        , -4.20542636]]), array([ 8.        , -4.57142857,  5.12903226,  5.61627907]))\n"
     ]
    }
   ],
   "source": [
    "#test 2\n",
    "A = np.random.randint(0, 10, (4, 4))\n",
    "b = np.random.randint(0, 10, (4,))\n",
    "\n",
    "print(forward(A, b))"
   ]
  },
  {
   "cell_type": "code",
   "execution_count": 7,
   "metadata": {},
   "outputs": [],
   "source": [
    "def backward(A_tri, b):\n",
    "    \"\"\"\n",
    "    Solves a system of equations given an upper triangular matrix\n",
    "\n",
    "    Parameters\n",
    "    ----------\n",
    "    A_tri : numpy.ndarray\n",
    "        A square upper triangular matrix\n",
    "    b : numpy.ndarray\n",
    "        A vertical vector\n",
    "    \n",
    "    Returns\n",
    "    -------\n",
    "    x : numpy.ndarray\n",
    "        The solution to the system of equations\n",
    "    \"\"\"\n",
    "\n",
    "    n = len(A_tri)\n",
    "    x = np.zeros(n)\n",
    "    for i in range(n-1, -1, -1):\n",
    "        x[i] = (b[i] - np.dot(A_tri[i][i+1:], x[i+1:])) / A_tri[i][i]\n",
    "    return x"
   ]
  },
  {
   "cell_type": "markdown",
   "metadata": {},
   "source": [
    "This function computes the solution of the linear equation system using next formula:\n",
    "<br>\n",
    "$$\n",
    "\\large{x_{i} = \\frac{b_{i} - \\sum_{j=i+1}^{n}a_{ij}x_{j}}{a_{ii}}}\n",
    "$$\n",
    "where $a_{ij}$ is the coefficient of the linear equation system, $b_{i}$ is the right side of the linear equation system, $x_{i}$ is the solution of the linear equation system.\n",
    "\n"
   ]
  },
  {
   "cell_type": "code",
   "execution_count": 8,
   "metadata": {},
   "outputs": [
    {
     "name": "stdout",
     "output_type": "stream",
     "text": [
      "[[0 4 2]\n",
      " [0 5 3]\n",
      " [2 3 3]] [ 3.   2.  -0.6]\n",
      "[[ 2.   3.   3. ]\n",
      " [ 0.   5.   3. ]\n",
      " [ 0.   0.  -0.4]] [ 3.   2.  -0.6]\n",
      "[ 6.66133815e-16 -5.00000000e-01  1.50000000e+00]\n"
     ]
    }
   ],
   "source": [
    "#test 1\n",
    "A = np.array([[0, 4, 2], [0, 5, 3], [2, 3, 3]])\n",
    "b = np.array([1, 2, 3])\n",
    "\n",
    "A_tri, b = forward(A, b)\n",
    "print(A, b)\n",
    "print(A_tri, b)\n",
    "print(backward(A_tri, b))"
   ]
  },
  {
   "cell_type": "code",
   "execution_count": 9,
   "metadata": {},
   "outputs": [
    {
     "name": "stdout",
     "output_type": "stream",
     "text": [
      "[[2 8 6 4]\n",
      " [4 9 8 7]\n",
      " [7 7 5 4]\n",
      " [6 1 8 9]] [5 5 6 7]\n",
      "[[ 2.          8.          6.          4.        ]\n",
      " [ 0.         -7.         -4.         -1.        ]\n",
      " [ 0.          0.         -4.         -7.        ]\n",
      " [ 0.          0.          0.         -5.21428571]] [ 5.         -5.          3.5        11.17857143]\n",
      "[ 0.65068493 -0.62328767  2.87671233 -2.14383562]\n"
     ]
    }
   ],
   "source": [
    "#test 2\n",
    "A = np.random.randint(0, 10, (4, 4))\n",
    "b = np.random.randint(0, 10, (4,))\n",
    "A_tri, b_new = forward(A, b)\n",
    "print(A, b)\n",
    "print(A_tri, b_new)\n",
    "print(backward(A_tri, b_new))"
   ]
  },
  {
   "cell_type": "markdown",
   "metadata": {},
   "source": [
    "### Final function"
   ]
  },
  {
   "cell_type": "code",
   "execution_count": 10,
   "metadata": {},
   "outputs": [],
   "source": [
    "def solve(A, b):\n",
    "    \"\"\"\n",
    "    Solves a system of equations given a square matrix\n",
    "\n",
    "    Parameters\n",
    "    ----------\n",
    "    A : numpy.ndarray\n",
    "        A square matrix\n",
    "    b : numpy.ndarray\n",
    "        A vertical vector\n",
    "    \n",
    "    Returns\n",
    "    -------\n",
    "    x : numpy.ndarray\n",
    "        The solution to the system of equations\n",
    "    \"\"\"\n",
    "\n",
    "    A_tri, b = forward(A, b)\n",
    "    return backward(A_tri, b)"
   ]
  },
  {
   "cell_type": "code",
   "execution_count": 11,
   "metadata": {},
   "outputs": [
    {
     "data": {
      "text/plain": [
       "array([ 0.65068493, -0.62328767,  2.87671233, -2.14383562])"
      ]
     },
     "execution_count": 11,
     "metadata": {},
     "output_type": "execute_result"
    }
   ],
   "source": [
    "solve(A, b)"
   ]
  }
 ],
 "metadata": {
  "kernelspec": {
   "display_name": "Python 3",
   "language": "python",
   "name": "python3"
  },
  "language_info": {
   "codemirror_mode": {
    "name": "ipython",
    "version": 3
   },
   "file_extension": ".py",
   "mimetype": "text/x-python",
   "name": "python",
   "nbconvert_exporter": "python",
   "pygments_lexer": "ipython3",
   "version": "3.11.3"
  },
  "orig_nbformat": 4
 },
 "nbformat": 4,
 "nbformat_minor": 2
}
